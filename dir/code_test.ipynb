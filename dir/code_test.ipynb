{
 "cells": [
  {
   "cell_type": "code",
   "execution_count": 2,
   "id": "b6aa8cc3",
   "metadata": {},
   "outputs": [],
   "source": [
    "demand = []\n",
    "cdemand = [] # TODO 这个cdemand是啥\n",
    "fopen = open('/Users/zihanding/Developer/Psquare/newevaluation_dis/historydemand/slot20/groundtruth/24', 'r')\n",
    "for line in fopen:\n",
    "    line = line.strip().split(',')\n",
    "    csum = 0\n",
    "    one = []\n",
    "    for k in line:\n",
    "        one.append((float(k)))\n",
    "        csum += (float(k))\n",
    "    demand.append(csum) # 37 每个line所有的数据加起来是csum 从i出去的demandd\n",
    "    cdemand.append(one) # 37x37 i到j的demand\n",
    "fopen.close()"
   ]
  },
  {
   "cell_type": "code",
   "execution_count": 7,
   "id": "3199c352",
   "metadata": {},
   "outputs": [
    {
     "name": "stdout",
     "output_type": "stream",
     "text": [
      "2 2 13\n"
     ]
    }
   ],
   "source": [
    "def createa(a,b,c):\n",
    "    a += 1\n",
    "    b += 1\n",
    "    c += 12\n",
    "    return a,b,c\n",
    "\n",
    "a,b,c = 1,1,1\n",
    "a,b,c = createa(a,b,c)\n",
    "print(a,b,c)"
   ]
  }
 ],
 "metadata": {
  "kernelspec": {
   "display_name": "Python 3 (ipykernel)",
   "language": "python",
   "name": "python3"
  },
  "language_info": {
   "codemirror_mode": {
    "name": "ipython",
    "version": 3
   },
   "file_extension": ".py",
   "mimetype": "text/x-python",
   "name": "python",
   "nbconvert_exporter": "python",
   "pygments_lexer": "ipython3",
   "version": "3.9.7"
  }
 },
 "nbformat": 4,
 "nbformat_minor": 5
}
